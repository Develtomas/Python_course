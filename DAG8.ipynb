{
  "nbformat": 4,
  "nbformat_minor": 0,
  "metadata": {
    "colab": {
      "provenance": [],
      "collapsed_sections": [],
      "authorship_tag": "ABX9TyNmvTny+CPzxuzR0hfmQTpD"
    },
    "kernelspec": {
      "name": "python3",
      "display_name": "Python 3"
    },
    "language_info": {
      "name": "python"
    }
  },
  "cells": [
    {
      "cell_type": "code",
      "execution_count": null,
      "metadata": {
        "id": "3R_ez9ermmJB"
      },
      "outputs": [],
      "source": [
        "from airflow import DAG\n",
        "from datetime import timedelta\n",
        "from airflow.utils.dates import days_ago\n",
        "from airflow.sensors.base import BaseSensorOperator\n",
        "import numpy as np\n",
        "\n",
        "\n",
        "class CustomSensor(BaseSensorOperator):\n",
        "\n",
        "    def poke(self, context):\n",
        "        return_value = np.random.binomial(1, 0.3)\n",
        "        return bool(return_value)\n",
        "\n",
        "\n",
        "# Здесь и далее код создание задачи-сенсора\n",
        "dag = DAG('dag',schedule_interval=timedelta(days=1), start_date=days_ago(1))\n",
        "\n",
        "kwargs = {\n",
        "    \"poke_interval\": 4,\n",
        "    \"timeout\": 50,\n",
        "    \"mode\": \"reschedule\",\n",
        "    \"soft_fail\": True\n",
        "}\n",
        "\n",
        "tasks_list=list()\n",
        "for i in range(1, 4):\n",
        "    tasks_list.append(CustomSensor(task_id=f'sensor_{i}', **kwargs, dag=dag))"
      ]
    }
  ]
}