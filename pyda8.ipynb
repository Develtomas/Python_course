{
  "nbformat": 4,
  "nbformat_minor": 0,
  "metadata": {
    "colab": {
      "provenance": [],
      "toc_visible": true,
      "collapsed_sections": [],
      "authorship_tag": "ABX9TyMNuVHPROFMkkRxwa4TyeS3"
    },
    "kernelspec": {
      "name": "python3",
      "display_name": "Python 3"
    },
    "language_info": {
      "name": "python"
    }
  },
  "cells": [
    {
      "cell_type": "code",
      "source": [
        "import re"
      ],
      "metadata": {
        "id": "35VaJfo2it-D"
      },
      "execution_count": 1,
      "outputs": []
    },
    {
      "cell_type": "markdown",
      "source": [
        "####task1\n"
      ],
      "metadata": {
        "id": "rTaVUw2PC1xp"
      }
    },
    {
      "cell_type": "code",
      "execution_count": 8,
      "metadata": {
        "colab": {
          "base_uri": "https://localhost:8080/",
          "height": 35
        },
        "id": "MFXC2C8ykmIU",
        "outputId": "544076c1-1096-474d-81ea-dcca31b6772b"
      },
      "outputs": [
        {
          "output_type": "execute_result",
          "data": {
            "text/plain": [
              "'number А222ВС96 is valid. Region 96'"
            ],
            "application/vnd.google.colaboratory.intrinsic+json": {
              "type": "string"
            }
          },
          "metadata": {},
          "execution_count": 8
        }
      ],
      "source": [
        "def is_valid(number):\n",
        "  m = re.match(r'[АВЕКМНОРСТУХ]{1}\\d{3}[АВЕКМНОРСТУХ]{2}(\\d{2,3})', number)\n",
        "  if m:\n",
        "    return f'Number {number} is valid. Region {m.groups(1)[0]}'\n",
        "  return f'Number {number} isnt valid'\n",
        "\n",
        "is_valid('А222ВС96')\n",
        "# is_valid('АБ22ВВ193')"
      ]
    },
    {
      "cell_type": "markdown",
      "source": [
        "####task2\n"
      ],
      "metadata": {
        "id": "Ex2n7b_AC_oJ"
      }
    },
    {
      "cell_type": "code",
      "source": [
        "def clear_repeated(string):\n",
        "  return re.sub(r'(\\w+)( \\1)+', r'\\1', string)\n",
        "\n",
        "clear_repeated('Напишите функцию функцию, которая будет будет будет будет удалять все все все все последовательные повторы слов из из из из заданной строки строки при помощи регулярных выражений.')"
      ],
      "metadata": {
        "colab": {
          "base_uri": "https://localhost:8080/",
          "height": 53
        },
        "id": "PUSzCDqlDE_l",
        "outputId": "4d1d5210-2d22-4ede-b1cb-038a070e9e90"
      },
      "execution_count": 10,
      "outputs": [
        {
          "output_type": "execute_result",
          "data": {
            "text/plain": [
              "'Напишите функцию, которая будет удалять все последовательные повторы слов из заданной строки при помощи регулярных выражений.'"
            ],
            "application/vnd.google.colaboratory.intrinsic+json": {
              "type": "string"
            }
          },
          "metadata": {},
          "execution_count": 10
        }
      ]
    },
    {
      "cell_type": "markdown",
      "source": [
        "####task3\n"
      ],
      "metadata": {
        "id": "bbmO2ZZlJxaR"
      }
    },
    {
      "cell_type": "code",
      "source": [
        "def acronim(str):\n",
        "  res = ''\n",
        "  for letter in re.findall(r'\\b[^\\d\\s\\W]', str):\n",
        "    res += letter.upper()\n",
        "  return res\n",
        "acronim('united states of america')"
      ],
      "metadata": {
        "colab": {
          "base_uri": "https://localhost:8080/",
          "height": 35
        },
        "id": "0X4DOtNIJ1At",
        "outputId": "b00b115b-7dc1-40fe-dfe1-0c9b150f8a32"
      },
      "execution_count": 19,
      "outputs": [
        {
          "output_type": "execute_result",
          "data": {
            "text/plain": [
              "'USOA'"
            ],
            "application/vnd.google.colaboratory.intrinsic+json": {
              "type": "string"
            }
          },
          "metadata": {},
          "execution_count": 19
        }
      ]
    },
    {
      "cell_type": "markdown",
      "source": [
        "####task4\n"
      ],
      "metadata": {
        "id": "QcdezFBtaCRA"
      }
    },
    {
      "cell_type": "code",
      "source": [
        "def domain_counter(domain_list):\n",
        "  domain_dict ={}\n",
        "  for item in domain_list:\n",
        "    d = re.findall(r'@([\\w.\\d]+)', item)[0]\n",
        "    domain_dict.setdefault(d, 0)\n",
        "    domain_dict[d] +=1\n",
        "  return domain_dict\n",
        "emails = ['test@gmail.com', 'xyz@test.in', 'test@ya.ru', 'xyz@mail.ru', 'xyz@ya.ru', 'xyz@gmail.com']\n",
        "domain_counter(emails)"
      ],
      "metadata": {
        "colab": {
          "base_uri": "https://localhost:8080/"
        },
        "id": "H7dlKMQSaFSG",
        "outputId": "a1da82fd-8d73-438d-d7d3-b1e1100972bb"
      },
      "execution_count": 18,
      "outputs": [
        {
          "output_type": "execute_result",
          "data": {
            "text/plain": [
              "{'gmail.com': 2, 'test.in': 1, 'ya.ru': 2, 'mail.ru': 1}"
            ]
          },
          "metadata": {},
          "execution_count": 18
        }
      ]
    }
  ]
}