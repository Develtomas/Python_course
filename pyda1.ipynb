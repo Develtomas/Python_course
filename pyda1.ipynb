{
  "nbformat": 4,
  "nbformat_minor": 0,
  "metadata": {
    "colab": {
      "provenance": [],
      "toc_visible": true,
      "collapsed_sections": [],
      "authorship_tag": "ABX9TyN/hX3N51tQYXOOpQTbMrR6"
    },
    "kernelspec": {
      "name": "python3",
      "display_name": "Python 3"
    },
    "language_info": {
      "name": "python"
    }
  },
  "cells": [
    {
      "cell_type": "markdown",
      "source": [
        "####task1\n"
      ],
      "metadata": {
        "id": "rTaVUw2PC1xp"
      }
    },
    {
      "cell_type": "code",
      "execution_count": null,
      "metadata": {
        "colab": {
          "base_uri": "https://localhost:8080/"
        },
        "id": "MFXC2C8ykmIU",
        "outputId": "b797fb83-1661-42f2-be28-80192bc6d428"
      },
      "outputs": [
        {
          "output_type": "stream",
          "name": "stdout",
          "text": [
            "phrase1 is longer\n"
          ]
        }
      ],
      "source": [
        "def length_checker(str1, str2):\n",
        "  if len(str1) == len(str2):\n",
        "    print('phrase1 has the same length as phrase2')\n",
        "    return\n",
        "  print(f'{\"phrase1\" if len(str1) > len(str2) else \"phrase2\"} is longer')\n",
        "\n",
        "phrase1 = 'iiughh'\n",
        "phrase2 = 'huhuh'\n",
        "\n",
        "length_checker(phrase1, phrase2)"
      ]
    },
    {
      "cell_type": "markdown",
      "source": [
        "####task2\n"
      ],
      "metadata": {
        "id": "Ex2n7b_AC_oJ"
      }
    },
    {
      "cell_type": "code",
      "source": [
        "def is_leap_year(year):\n",
        "  \"\"\"check is a leap year true/false\"\"\"\n",
        "  if  (year % 4 == 0 and year % 100 != 0) \\\n",
        "  or (year % 100 == 0 and year % 400 == 0):\n",
        "    return True\n",
        "  return False\n",
        "\n",
        "is_leap_year(2076)"
      ],
      "metadata": {
        "colab": {
          "base_uri": "https://localhost:8080/"
        },
        "id": "PUSzCDqlDE_l",
        "outputId": "e281538a-0dd2-4b4a-f15e-3d7a2f2cd604"
      },
      "execution_count": null,
      "outputs": [
        {
          "output_type": "execute_result",
          "data": {
            "text/plain": [
              "True"
            ]
          },
          "metadata": {},
          "execution_count": 14
        }
      ]
    },
    {
      "cell_type": "markdown",
      "source": [
        "####task3\n"
      ],
      "metadata": {
        "id": "bbmO2ZZlJxaR"
      }
    },
    {
      "cell_type": "code",
      "source": [
        "class ZodiacSign:\n",
        "    def __init__(self):\n",
        "        self.day = int(input('enter the date: '))\n",
        "        self.month_list = ['Январь', 'Февраль', 'Март', 'Апрель',\\\n",
        "                             'Май', 'Июнь', 'Июль', 'Август', 'Сентябрь', 'Октябрь', 'Ноябрь', 'Декабрь']\n",
        "        self.month = ''\n",
        "        while self.month not in self.month_list:\n",
        "            self.month = input('enter the correct month: ').capitalize()\n",
        "\n",
        "        self.month = self.month_dict.index(self.month) + 1\n",
        "        print(f\"Your sign is: {self.sign}\")\n",
        "\n",
        "    @property\n",
        "    def sign(self):\n",
        "        if(self.day >= 21 and self.day <= 31 and self.month == 3) or (self.month == 4 and self.day >= 1 and self.day <= 19):\n",
        "            sign = \"Овен\"\n",
        "        elif (self.day >= 20 and self.day <= 30 and self.month == 4) or (self.month == 5 and self.day >= 1 and self.day <= 20):\n",
        "            sign = \"Телец\"\n",
        "        elif (self.day >= 21 and self.day <= 31 and self.month == 5) or (self.month == 6 and self.day >= 1 and self.day <= 21):\n",
        "            sign = \"Близнецы\"\n",
        "        elif (self.day >= 22 and self.day <= 30 and self.month == 6) or (self.month == 7 and self.day >= 1 and self.day <= 22):\n",
        "            sign = \"Рак\"\n",
        "        elif (self.day >= 23 and self.day <= 31 and self.month == 7) or (self.month == 8 and self.day >= 1 and self.day <= 22):\n",
        "            sign = \"Лев\"\n",
        "        elif (self.day >= 23 and self.day <= 31 and self.month == 8) or (self.month == 9 and self.day >= 1 and self.day <= 22):\n",
        "            sign = \"Дева\"\n",
        "        elif (self.day >= 23 and self.day <= 30 and self.month == 9) or (self.month == 10 and self.day >= 1 and self.day <= 23):\n",
        "            sign = \"Весы\"\n",
        "        elif (self.day >= 24 and self.day <= 31 and self.month == 10) or (self.month == 11 and self.day >= 1 and self.day <= 22):\n",
        "            sign = \"Скорпион\"\n",
        "        elif (self.day >= 23 and self.day <= 30 and self.month == 11) or (self.month == 12 and self.day >= 1 and self.day <= 21):\n",
        "            sign = \"Стрелец\"\n",
        "        elif (self.day >= 22 and self.day <= 31 and self.month == 12) or (self.month == 1 and self.day >= 1 and self.day <= 20):\n",
        "            sign = \"Козерог\"\n",
        "        elif (self.day >= 21 and self.day <= 31 and self.month == 1) or (self.month == 2 and self.day >= 1 and self.day <= 18):\n",
        "            sign = \"Водолей\"\n",
        "        elif (self.day >= 19 and self.day <= 29 and self.month == 2) or (self.month == 3 and self.day >= 1 and self.day <= 20):\n",
        "            sign = \"Рыбы\"\n",
        "        return sign\n",
        "\n",
        "man1 = ZodiacSign()"
      ],
      "metadata": {
        "colab": {
          "base_uri": "https://localhost:8080/"
        },
        "id": "0X4DOtNIJ1At",
        "outputId": "a62a2d17-58c8-4790-d84a-44361e43991c"
      },
      "execution_count": null,
      "outputs": [
        {
          "output_type": "stream",
          "name": "stdout",
          "text": [
            "enter the date: 13\n",
            "enter correct Month: Июнь\n",
            "Your sign is: Близнецы\n"
          ]
        }
      ]
    },
    {
      "cell_type": "markdown",
      "source": [
        "####task4\n"
      ],
      "metadata": {
        "id": "QcdezFBtaCRA"
      }
    },
    {
      "cell_type": "code",
      "source": [
        "def package_size_generator(width=15, length=50, height=20):\n",
        "    if length > 200:\n",
        "        print(\"Упаковка для лыж\")\n",
        "    elif width <= 15 and length <= 15 and  height <= 15:\n",
        "        print(\"Коробка №1\")\n",
        "    elif 15 < width < 50 or\\\n",
        "        15 < length < 50 or\\\n",
        "        15 < height < 50:\n",
        "        print(\"Коробка №2\")\n",
        "    else:\n",
        "        print(\"Стандартная коробка №3\")\n",
        "\n",
        "package_size_generator(15,15,50)"
      ],
      "metadata": {
        "colab": {
          "base_uri": "https://localhost:8080/"
        },
        "id": "H7dlKMQSaFSG",
        "outputId": "c7513697-5f33-44d9-8a7a-6a6f40cebf97"
      },
      "execution_count": null,
      "outputs": [
        {
          "output_type": "stream",
          "name": "stdout",
          "text": [
            "Стандартная коробка №3\n"
          ]
        }
      ]
    },
    {
      "cell_type": "markdown",
      "source": [
        "####task5"
      ],
      "metadata": {
        "id": "fHgkT_van7wH"
      }
    },
    {
      "cell_type": "code",
      "source": [
        "def check_luck(num):\n",
        "    print(\"Lucky\" if sum(map(int, list(str(num)[0:3]))) == \\\n",
        "          sum(map(int, list(str(num)[3:7]))) else \"unlucky\")\n",
        "\n",
        "check_luck(123123)\n",
        "check_luck(123153)"
      ],
      "metadata": {
        "colab": {
          "base_uri": "https://localhost:8080/"
        },
        "id": "B_UjnzKLzTs7",
        "outputId": "52c9fd92-a587-4cf0-c900-8e0df110d0c3"
      },
      "execution_count": null,
      "outputs": [
        {
          "output_type": "stream",
          "name": "stdout",
          "text": [
            "Lucky\n",
            "unlucky\n"
          ]
        }
      ]
    },
    {
      "cell_type": "markdown",
      "source": [
        "####task6\n"
      ],
      "metadata": {
        "id": "u9QzYF8szbjq"
      }
    },
    {
      "cell_type": "code",
      "source": [
        "class Triangle:\n",
        "    def __init__(self):\n",
        "        self.f_side = int(input(\"first side: \"))\n",
        "        self.s_side = int(input(\"second side: \"))\n",
        "        self.t_side = int(input(\"third side: \"))\n",
        "\n",
        "    def area(self):\n",
        "        p = float((self.f_side + self.s_side + self.t_side) / 2)\n",
        "        print(f\"Area is {(p * (p - self.f_side) * (p - self.s_side) * (p - self.t_side)) ** 0.5}\")\n",
        "\n",
        "\n",
        "class Circle:\n",
        "    def __init__(self):\n",
        "        self.radius = int(input(\"Radius: \"))\n",
        "\n",
        "    def area(self):\n",
        "        print(f\"Area is {3.14 * (self.radius ** 2)}\")\n",
        "\n",
        "\n",
        "class Rectangle:\n",
        "    def __init__(self):\n",
        "        self.f_side = int(input(\"first side: \"))\n",
        "        self.s_side = int(input(\"second side: \"))\n",
        "\n",
        "    def area(self):\n",
        "        print(f\"Area is {self.f_side * self.s_side}\")\n",
        "\n",
        "\n",
        "def area_calculator():\n",
        "    \"\"\"Please enter Triangle, Rectangle or Circle\"\"\"\n",
        "    try:\n",
        "        shape = eval(input('enter shape: '))()\n",
        "        shape.area()\n",
        "    except NameError:\n",
        "        print('error name')\n",
        "\n",
        "\n",
        "area_calculator()"
      ],
      "metadata": {
        "colab": {
          "base_uri": "https://localhost:8080/"
        },
        "id": "P7qg6gDezeIp",
        "outputId": "af8bcb35-b748-497d-cd06-de5e99158c89"
      },
      "execution_count": null,
      "outputs": [
        {
          "output_type": "stream",
          "name": "stdout",
          "text": [
            "enter shape: Rectangle\n",
            "first side: 3\n",
            "second side: 5\n",
            "Area is 15\n"
          ]
        }
      ]
    }
  ]
}