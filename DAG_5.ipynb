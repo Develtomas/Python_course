{
  "nbformat": 4,
  "nbformat_minor": 0,
  "metadata": {
    "colab": {
      "provenance": [],
      "collapsed_sections": [],
      "authorship_tag": "ABX9TyNls0Z5HuxYoUk6kBSwn+cW",
      "include_colab_link": true
    },
    "kernelspec": {
      "name": "python3",
      "display_name": "Python 3"
    },
    "language_info": {
      "name": "python"
    }
  },
  "cells": [
    {
      "cell_type": "markdown",
      "metadata": {
        "id": "view-in-github",
        "colab_type": "text"
      },
      "source": [
        "<a href=\"https://colab.research.google.com/github/Develtomas/Python_course/blob/main/DAG_5.ipynb\" target=\"_parent\"><img src=\"https://colab.research.google.com/assets/colab-badge.svg\" alt=\"Open In Colab\"/></a>"
      ]
    },
    {
      "cell_type": "code",
      "execution_count": null,
      "metadata": {
        "id": "o6sPqXDiT0Wk"
      },
      "outputs": [],
      "source": [
        "from airflow import DAG\n",
        "from airflow.operators.python import PythonOperator\n",
        "from airflow.providers.sqlite.operators.sqlite import SqliteOperator\n",
        "from datetime import datetime\n",
        "\n",
        "import pandas as pd\n",
        "import sqlite3\n",
        "import requests\n",
        "import io\n",
        "\n",
        "CONN = sqlite3.connect('/content/example.db')\n",
        "\n",
        "dag = DAG('dag', \n",
        "          start_date=datetime(2021, 1, 1),\n",
        "          end_date=datetime(2021, 1, 4),\n",
        "          schedule_interval='@daily',\n",
        "          max_active_runs=1)\n",
        "\n",
        "def extract_currency(date, **kwargs):\n",
        "  url = f'https://api.exchangerate.host/timeseries?start_date={date}&end_date={date}&base=EUR&symbols=USD&format=csv'\n",
        "  response = requests.get(url).content\n",
        "  data = pd.read_csv(io.StringIO(response.decode('utf-8')))\n",
        "\n",
        "  kwargs['ti'].xcom_push(key='return_value', value=data['rate'].values[0])\n",
        "\n",
        "\n",
        "def insert_to_db(data, table_name, conn):\n",
        "  data.to_sql(table_name, conn, if_exists='append', index=False)\n",
        "\n",
        "def extract_data(date, conn):\n",
        "  url = f'https://raw.githubusercontent.com/dm-novikov/stepik_airflow_course/main/data_new/{date}.csv'\n",
        "  data = pd.read_csv(url,index_col=False)\n",
        "\n",
        "  insert_to_db(data, 'data', conn)\n",
        "\n",
        "\n",
        "read_csv_file_1 = PythonOperator(task_id='read_currency', \n",
        "                      python_callable=extract_currency,\n",
        "                      op_kwargs={'date': '{{ ds }}'}, \n",
        "                      dag=dag)\n",
        "\n",
        "  \n",
        "read_csv_file_2 = PythonOperator(task_id='read_data', \n",
        "                      python_callable=extract_data,\n",
        "                      op_kwargs={'date': '{{ ds }}', 'conn': CONN},\n",
        "                      dag=dag)\n",
        "\n",
        "\n",
        "join_data = SqliteOperator(\n",
        "    task_id='join_data',\n",
        "    sql='insert into join_data select currency, value, date, ' + \n",
        "      '{{ti.xcom_pull(key=\"return_value\")}} as rate' + \n",
        "      ' from data ' +\n",
        "      'where date LIKE \"{{ds}}%\";',\n",
        "    dag=dag,\n",
        ")\n",
        "\n",
        "[read_csv_file_1, read_csv_file_2] >> join_data"
      ]
    }
  ]
}