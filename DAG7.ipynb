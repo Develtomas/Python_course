{
  "nbformat": 4,
  "nbformat_minor": 0,
  "metadata": {
    "colab": {
      "provenance": [],
      "authorship_tag": "ABX9TyOov1KHzzhWXDWG+I+GoqOL"
    },
    "kernelspec": {
      "name": "python3",
      "display_name": "Python 3"
    },
    "language_info": {
      "name": "python"
    }
  },
  "cells": [
    {
      "cell_type": "code",
      "execution_count": null,
      "metadata": {
        "id": "iVrQX97yw6NT"
      },
      "outputs": [],
      "source": [
        "from airflow.models.baseoperator import BaseOperator\n",
        "from airflow.hooks.sqlite_hook import SqliteHook\n",
        "from airflow.operators.python import PythonOperator\n",
        "from airflow import DAG\n",
        "from datetime import timedelta\n",
        "from airflow.utils.dates import days_ago \n",
        "import pandas as pd\n",
        "\n",
        "class FileSQLiteTransferHook(SqliteHook):\n",
        "\n",
        "    def get_pandas_df(self, url_or_path):\n",
        "      \"\"\" Read data to df\"\"\"\n",
        "      return pd.read_csv(url_or_path)\n",
        "\n",
        "    def insert_df_to_db(self, data):\n",
        "      \"\"\" insert into DB \"\"\" \n",
        "      data.to_sql('table', con=self.get_conn())\n",
        "\n",
        "class FileSQLiteTransferOperator(BaseOperator):\n",
        "\n",
        "    def __init__(self, path, **kwargs):\n",
        "        super().__init__(**kwargs)\n",
        "        self.hook = None \n",
        "        self.path = path # file path\n",
        "\n",
        "\n",
        "    def execute(self, context):\n",
        "\n",
        "        # hook init\n",
        "        self.hook = FileSQLiteTransferHook()\n",
        "\n",
        "        # get data\n",
        "        data = self.hook.get_pandas_df(self.path)\n",
        "\n",
        "        # create table and insert data\n",
        "        self.hook.insert_df_to_db(data)\n",
        "\n",
        "# dag and operator\n",
        "\n",
        "dag = DAG('dag', schedule_interval=timedelta(days=1), start_date=days_ago(1))\n",
        "\n",
        "t1 = FileSQLiteTransferOperator(\n",
        "  task_id='transfer_data', \n",
        "  path='https://raw.githubusercontent.com/dm-novikov/stepik_airflow_course/main/data_new/2021-01-04.csv', \n",
        "  dag=dag)"
      ]
    }
  ]
}