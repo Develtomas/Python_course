{
  "nbformat": 4,
  "nbformat_minor": 0,
  "metadata": {
    "colab": {
      "provenance": [],
      "collapsed_sections": [],
      "authorship_tag": "ABX9TyOznKFdJuwDI731nJIopOrj"
    },
    "kernelspec": {
      "name": "python3",
      "display_name": "Python 3"
    },
    "language_info": {
      "name": "python"
    }
  },
  "cells": [
    {
      "cell_type": "code",
      "execution_count": null,
      "metadata": {
        "id": "O3IqJIKJQTET"
      },
      "outputs": [],
      "source": [
        "from airflow import DAG\n",
        "from airflow.operators.dummy_operator import DummyOperator\n",
        "from airflow.operators.python_operator import PythonOperator\n",
        "from datetime import datetime\n",
        "\n",
        "\n",
        "def my_func(hello, date, **context):\n",
        "  print(hello)\n",
        "  print(date)\n",
        "  print(context['task'].task_id)\n",
        "\n",
        "\n",
        "with DAG('dag', schedule_interval='@daily', \n",
        "          start_date=datetime(2021, 1, 1),\n",
        "          end_date=datetime(2021, 1, 1)) as dag:\n",
        "\n",
        "  python_task = PythonOperator(\n",
        "    task_id='python_task', \n",
        "    python_callable=my_func,\n",
        "    op_kwargs= {\n",
        "      'hello': 'Hello World',\n",
        "      'date': '{{ ds }}'\n",
        "      }\n",
        "    )"
      ]
    }
  ]
}