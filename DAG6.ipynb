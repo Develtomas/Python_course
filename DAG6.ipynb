{
  "nbformat": 4,
  "nbformat_minor": 0,
  "metadata": {
    "colab": {
      "provenance": [],
      "collapsed_sections": [],
      "authorship_tag": "ABX9TyMILjw81/nsqzANBfcZlU1c"
    },
    "kernelspec": {
      "name": "python3",
      "display_name": "Python 3"
    },
    "language_info": {
      "name": "python"
    }
  },
  "cells": [
    {
      "cell_type": "code",
      "execution_count": null,
      "metadata": {
        "id": "CTrf446yMWqA"
      },
      "outputs": [],
      "source": [
        "from airflow import DAG\n",
        "from airflow.operators.python import PythonOperator\n",
        "from datetime import datetime\n",
        "from airflow.operators.dummy import DummyOperator\n",
        "from airflow.operators.python_operator import BranchPythonOperator\n",
        "from random import randint\n",
        "\n",
        "default_args = {\n",
        "    'owner':'airflow',\n",
        "    'start_date': datetime(2022, 11, 3)\n",
        "}\n",
        "\n",
        "dag = DAG('dag', schedule_interval='@daily', default_args=default_args)\n",
        "\n",
        "def rand(**kwargs):\n",
        "  kwargs['ti'].xcom_push(key='rand', value=randint(0, 10))\n",
        "\n",
        "\n",
        "def branch(**kwargs):\n",
        "    xcom_value = int(kwargs['ti'].xcom_pull(task_ids='random_number', key='rand'))\n",
        "    if xcom_value >= 5:\n",
        "        return 'higher'\n",
        "    else:\n",
        "        return 'lower'\n",
        "\n",
        "lower = DummyOperator(\n",
        "    task_id = 'lower',\n",
        "    dag=dag\n",
        ")\n",
        "\n",
        "higher = DummyOperator(\n",
        "    task_id = 'higher',\n",
        "    dag=dag\n",
        ")\n",
        "\n",
        "branch_op = BranchPythonOperator(\n",
        "    task_id = 'branch_task',\n",
        "    provide_context = True,\n",
        "    python_callable=branch,\n",
        "    dag=dag\n",
        ")\n",
        "\n",
        "random_number = PythonOperator(\n",
        "    task_id = 'random_number',\n",
        "    python_callable=rand,\n",
        "    dag=dag\n",
        ")\n",
        "\n",
        "random_number >> branch_op >> [lower, higher]"
      ]
    }
  ]
}