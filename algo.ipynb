{
  "nbformat": 4,
  "nbformat_minor": 0,
  "metadata": {
    "colab": {
      "provenance": [],
      "authorship_tag": "ABX9TyPzfk32ZCoLLsITx42alQVV"
    },
    "kernelspec": {
      "name": "python3",
      "display_name": "Python 3"
    },
    "language_info": {
      "name": "python"
    }
  },
  "cells": [
    {
      "cell_type": "code",
      "source": [
        "from random import randint\n",
        "TRIES = 3\n",
        "TEAMMATE= 4\n",
        "TEAMS = 3\n",
        "\n",
        "def create_points():\n",
        "  arr = []\n",
        "  while len(arr) < TRIES:\n",
        "    arr.append(randint(1,60))\n",
        "  return arr\n",
        "\n",
        "def create_command():\n",
        "  command = []\n",
        "  while len(command) < TEAMMATE:\n",
        "    command.append(create_points())\n",
        "  return command\n",
        "\n",
        "def create_competition():\n",
        "  com = []\n",
        "  while len(com) < TEAMS:\n",
        "    com.append(create_command())\n",
        "  return com\n",
        "\n",
        "competition_total = create_competition()\n",
        "\n",
        "team_data = {}\n",
        "\n",
        "for tn, team in enumerate(competition_total):\n",
        "  prev_sum = 0\n",
        "  cur_sum = 0\n",
        "  pn_dict = {}\n",
        "  for pn, player in enumerate(team):\n",
        "      prev_sum = cur_sum\n",
        "      cur_sum = sum(player)\n",
        "      if cur_sum > prev_sum:\n",
        "        pn_dict = {}\n",
        "        pn_dict.setdefault(cur_sum, [pn])\n",
        "      elif cur_sum == prev_sum:\n",
        "        pn_dict[cur_sum].append(pn)\n",
        "  team_data[tn] = pn_dict\n",
        "\n",
        "print(team_data)\n",
        "max_val = 0\n",
        "team = 0\n",
        "score = 0\n",
        "winner = []\n",
        "for k, v in team_data.items():\n",
        "  value = list(v.keys())[0]\n",
        "  if value > max_val:\n",
        "    max_val = value\n",
        "    team = k\n",
        "    winner = v[value]\n",
        "\n",
        "print(f'team with maximum scores {team}, absolute winner(s) is {winner}, scores: {max_val}')"
      ],
      "metadata": {
        "colab": {
          "base_uri": "https://localhost:8080/"
        },
        "id": "ntkiw-GzV2uM",
        "outputId": "0ad12bed-daa2-4643-ac61-edbc658c87da"
      },
      "execution_count": null,
      "outputs": [
        {
          "output_type": "stream",
          "name": "stdout",
          "text": [
            "{0: {104: [3]}, 1: {58: [3]}, 2: {99: [3]}}\n",
            "team with maximum scores 0, absolute winner(s) is [3], scores: 104\n"
          ]
        }
      ]
    },
    {
      "cell_type": "code",
      "source": [
        "# bubble\n",
        "a = [3,4,5,2,1]\n",
        "counter = 0\n",
        "for j in range(len(a)-1):\n",
        "  for i in range(len(a)-1-j):\n",
        "    if a[i] > a[i+1]:\n",
        "      counter += 1\n",
        "      a[i], a[i+1] = a[i+1], a[i]\n",
        "\n",
        "print(counter)\n"
      ],
      "metadata": {
        "id": "SZp2XpRSZTPe",
        "colab": {
          "base_uri": "https://localhost:8080/"
        },
        "outputId": "92c092b5-3565-4b9f-eec0-c0e7c5538e38"
      },
      "execution_count": 21,
      "outputs": [
        {
          "output_type": "stream",
          "name": "stdout",
          "text": [
            "7\n"
          ]
        }
      ]
    },
    {
      "cell_type": "code",
      "source": [
        "# selection\n",
        "library_num = [124,235,456,123,756,476,285,998,379,108]\n",
        "def selection_sort(arr):    \n",
        "    for i in range(len(arr)):\n",
        "        min = i\n",
        "        for j in range(i + 1, len(arr)):\n",
        "            if arr[min] > arr[j]:\n",
        "                min = j\n",
        "        arr[i], arr[min] = arr[min], arr[i]"
      ],
      "metadata": {
        "id": "417kK24kMYua"
      },
      "execution_count": null,
      "outputs": []
    },
    {
      "cell_type": "code",
      "source": [
        "# merge\n",
        "def m_merge(a, b):\n",
        "  all = []\n",
        "  i=j=0\n",
        "  while i < len(a) and j < len(b):\n",
        "    if a[i] < b[j]:\n",
        "      all.append(a[i])\n",
        "      i+=1\n",
        "    else:\n",
        "      all.append(b[j])\n",
        "      j+=1\n",
        "  if i < len(a):\n",
        "    all += a[i:]\n",
        "  if j < len(b):\n",
        "    all += b[j:]\n",
        "\n",
        "  return all\n",
        "\n",
        "def m_sort(c):\n",
        "  if len(c) ==1:\n",
        "    return c\n",
        "  midd = len(c)//2\n",
        "  left = m_sort(c[:midd])\n",
        "  right = m_sort(c[midd:])\n",
        "  return m_merge(left,right)\n",
        "\n",
        "m_sort([1,3,2,6,9,1,0,5,3])\n"
      ],
      "metadata": {
        "colab": {
          "base_uri": "https://localhost:8080/"
        },
        "id": "2uI0kFi7aUCd",
        "outputId": "c035cffe-5815-4215-b3df-c0592981281d"
      },
      "execution_count": 18,
      "outputs": [
        {
          "output_type": "execute_result",
          "data": {
            "text/plain": [
              "[0, 1, 1, 2, 3, 3, 5, 6, 9]"
            ]
          },
          "metadata": {},
          "execution_count": 18
        }
      ]
    },
    {
      "cell_type": "code",
      "source": [
        "# quick\n",
        "def quick_sort(ls):\n",
        "  if len(ls) == 1:\n",
        "    return ls\n",
        "  elem = ls[0]\n",
        "  left = list(filter(lambda x: x < elem, ls))\n",
        "  center = [x for x in ls if x==elem]\n",
        "  right = list(filter(lambda x: x > elem, ls))\n",
        "  return quick_sort(left) + center + quick_sort(right)\n",
        "\n",
        "print(quick_sort([1,3,2,6,9,1,0,5,3]))"
      ],
      "metadata": {
        "colab": {
          "base_uri": "https://localhost:8080/"
        },
        "id": "zCtaItI6zum-",
        "outputId": "545ef51d-f0c2-4094-f7fc-c082c5ee73a4"
      },
      "execution_count": 20,
      "outputs": [
        {
          "output_type": "stream",
          "name": "stdout",
          "text": [
            "[0, 1, 1, 2, 3, 3, 5, 6, 9]\n"
          ]
        }
      ]
    }
  ]
}