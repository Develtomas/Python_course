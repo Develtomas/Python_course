{
  "nbformat": 4,
  "nbformat_minor": 0,
  "metadata": {
    "colab": {
      "provenance": [],
      "collapsed_sections": [],
      "authorship_tag": "ABX9TyM2lZ2pwjTWdV7r1mo9L/ck"
    },
    "kernelspec": {
      "name": "python3",
      "display_name": "Python 3"
    },
    "language_info": {
      "name": "python"
    }
  },
  "cells": [
    {
      "cell_type": "code",
      "execution_count": null,
      "metadata": {
        "id": "4C9PIA4KblvO"
      },
      "outputs": [],
      "source": [
        "# Dag simplehttpoperator\n",
        "from airflow import DAG\n",
        "from airflow.operators.http_operator import SimpleHttpOperator\n",
        "from datetime import datetime\n",
        "\n",
        "dag = DAG(\n",
        "    dag_id='dag',\n",
        "    schedule_interval='@once',\n",
        "    start_date=datetime(2022, 11, 1),\n",
        ")\n",
        "\n",
        "t1 = SimpleHttpOperator(\n",
        "    task_id='get_num',\n",
        "    method='GET',\n",
        "    http_conn_id='http_default',\n",
        "    endpoint='integers/?num=1&min=1&max=5&col=1&base=2&format=plain',\n",
        "    xcom_push=True,\n",
        "    dag=dag)"
      ]
    },
    {
      "cell_type": "code",
      "source": [
        "# randint to xcom\n",
        "from airflow import DAG\n",
        "from datetime import timedelta\n",
        "from airflow.utils.dates import days_ago\n",
        "from airflow.models import BaseOperator\n",
        "from random import randint\n",
        "\n",
        "class DummyOperator(BaseOperator):\n",
        "\n",
        "    def __init__(self, **kwargs) -> None:\n",
        "        super().__init__(**kwargs)\n",
        "\n",
        "    def execute(self, context):\n",
        "        return randint(0,9)\n",
        "\n",
        "dag = DAG('dag',schedule_interval='@daily', start_date=days_ago(1))\n",
        "t1 = DummyOperator(task_id='task_1', dag=dag)\n",
        "t2 = DummyOperator(task_id='task_2',dag=dag)\n",
        "\n",
        "t1 >> t2"
      ],
      "metadata": {
        "id": "OAz6ZYtUfpZe"
      },
      "execution_count": null,
      "outputs": []
    },
    {
      "cell_type": "code",
      "source": [
        "from airflow import DAG\n",
        "from airflow.operators.python import PythonOperator\n",
        "from airflow.models import Variable\n",
        "from airflow.models import Connection\n",
        "import json\n",
        "from datetime import datetime\n",
        "\n",
        "# create conection\n",
        "c = Connection(\n",
        "  conn_id=\"custom_conn_id\",\n",
        "  host=\"google.com\",\n",
        "  login=\"user\",\n",
        "  password=\"12345\"\n",
        ")\n",
        "\n",
        "def save_into_variables(**context):\n",
        "  con_str = f'\"conn_id\":{c.conn_id}, \"host\":{c.host}, \"login\":{c.login}, \"password\":{c.password}'\n",
        "  Variable.set('my_conn', json.dumps('{'+con_str+'}', ))\n",
        "\n",
        "\n",
        "dag = DAG('dag', \n",
        "          start_date=datetime(2021, 1, 1),\n",
        "          schedule_interval='@once')\n",
        "\n",
        "set_varible = PythonOperator(\n",
        "    task_id='set_data',\n",
        "    python_callable=save_into_variables,\n",
        "    dag=dag\n",
        ")"
      ],
      "metadata": {
        "id": "kjd5CxqlpTDg"
      },
      "execution_count": null,
      "outputs": []
    },
    {
      "cell_type": "code",
      "source": [
        "import airflow\n",
        "from airflow import DAG\n",
        "from airflow.sensors.http_sensor import HttpSensor\n",
        "\n",
        "\n",
        "dag = DAG('dag',schedule_interval='@daily', start_date=airflow.utils.dates.days_ago(1))\n",
        "\n",
        "def response_check(response, task_instance):\n",
        "  if int(response.text) == 5:\n",
        "    return True\n",
        "  return False\n",
        "\n",
        "sensor = HttpSensor(\n",
        "    task_id='http_sensor',\n",
        "    http_conn_id='http_default',\n",
        "    endpoint='integers/?num=1&min=1&max=5&col=1&base=10&format=plain',\n",
        "    response_check=response_check,\n",
        "    poke_interval=10,\n",
        "    timeout=60,\n",
        "    dag=dag)"
      ],
      "metadata": {
        "id": "myOgjmXYxSLB"
      },
      "execution_count": null,
      "outputs": []
    },
    {
      "cell_type": "code",
      "source": [
        "from airflow import DAG\n",
        "from datetime import datetime\n",
        "from airflow.operators.dummy_operator import DummyOperator\n",
        "\n",
        "def create_dag(dag_id,\n",
        "               default_args,\n",
        "               schedule='@daily'):\n",
        "\n",
        "    dag = DAG(dag_id,\n",
        "              schedule_interval=schedule,\n",
        "              default_args=default_args)\n",
        "\n",
        "    with dag:\n",
        "      task_list=list()\n",
        "      for i in range(0, 10):\n",
        "        task_list.append(DummyOperator(task_id=f'task_{i}', dag=dag))\n",
        "\n",
        "    return dag\n",
        "\n",
        "\n",
        "# generate DAGS via range()\n",
        "for n in range(0, 5):\n",
        "    dag_id = f'dag_{n}'\n",
        "\n",
        "    # defaults\n",
        "    default_args = {'owner': 'airflow',\n",
        "                    'start_date': datetime(2021, 1, 1)\n",
        "                    }\n",
        "    \n",
        "    globals()[dag_id] = create_dag(dag_id, default_args)\n"
      ],
      "metadata": {
        "id": "P6KakSr14wOt"
      },
      "execution_count": null,
      "outputs": []
    }
  ]
}